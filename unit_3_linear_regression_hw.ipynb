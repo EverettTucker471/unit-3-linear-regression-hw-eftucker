{
 "cells": [
  {
   "cell_type": "markdown",
   "metadata": {},
   "source": [
    "# Unit 3 Homework\n",
    "\n",
    "This homework will be a bit open ended to give you a bit of practice for your project. We will use a dataset from kaggle and create a linear regression model.\n",
    "\n",
    "Please read the rubric for this homework - as passing all pytest does not indicate a 100% for this assignment. \n",
    "\n",
    "The pytest in this assignment are meant to help guide you."
   ]
  },
  {
   "cell_type": "markdown",
   "metadata": {},
   "source": [
    "Here is the rubric for reference\n",
    "\n",
    "![rubic_new](./rubric.png)"
   ]
  },
  {
   "cell_type": "markdown",
   "metadata": {},
   "source": [
    "Here is some code to get you started!"
   ]
  },
  {
   "cell_type": "code",
   "execution_count": 15,
   "metadata": {},
   "outputs": [],
   "source": [
    "# Import necessary modules\n",
    "# If you add new modules please also add them to the requirements.txt file\n",
    "import pandas as pd\n",
    "from sklearn.linear_model import LinearRegression \n",
    "import zipfile as zip\n",
    "import matplotlib.pyplot as plt\n",
    "# %matplotlib ipympl # You can uncomment this line to have better plots, but this causes pytest warnings. (You can ignore pytest warnings)\n"
   ]
  },
  {
   "cell_type": "markdown",
   "metadata": {},
   "source": [
    "The dataset we will be exploring is from https://www.kaggle.com/datasets/hanaksoy/customer-purchasing-behaviors?resource=download\n",
    "\n",
    "Please take some time to read about the data as you will have to answer questions about it for this homework."
   ]
  },
  {
   "cell_type": "code",
   "execution_count": 16,
   "metadata": {},
   "outputs": [],
   "source": [
    "with zip.ZipFile('Customer Purchasing Behaviors.zip', 'r') as zp:\n",
    "    zp.extractall('Customer Purchasing Behaviors')"
   ]
  },
  {
   "cell_type": "markdown",
   "metadata": {},
   "source": [
    "In the function call below extract the data using pandas"
   ]
  },
  {
   "cell_type": "code",
   "execution_count": 21,
   "metadata": {},
   "outputs": [],
   "source": [
    "# Note this is in a function so it can be graded. \n",
    "def extract_customer_data():\n",
    "    '''\n",
    "    Extract the customer dataset based on the path of the data\n",
    "    that was unzipped. In this case you are hardcoding the file name.\n",
    "\n",
    "    Return | extracted data from .csv\n",
    "    '''\n",
    "    extracted_data = None\n",
    "    return extracted_data\n",
    "\n",
    "# This calls the function so you can use the dataset in the rest of your notebook\n",
    "customer_data_set = extract_customer_data()"
   ]
  },
  {
   "cell_type": "markdown",
   "metadata": {},
   "source": [
    "One the data is extracted do some analysis on the data. Write your code below, follow up with a summary of your analysis."
   ]
  },
  {
   "cell_type": "code",
   "execution_count": 18,
   "metadata": {},
   "outputs": [],
   "source": [
    "# This block is of you to do some analysis on the dataset - see rubric for grading guidelines"
   ]
  },
  {
   "cell_type": "markdown",
   "metadata": {},
   "source": [
    "In this block write a summary of your analysis, do you see any relationships?\n",
    "\n",
    "<insert summary here>"
   ]
  },
  {
   "cell_type": "markdown",
   "metadata": {},
   "source": [
    "In the next block separate the \"purchase_amount\" and \"annual_income\" columns from the customer dataset. Plot the relationship between the two. Try to match the plot below."
   ]
  },
  {
   "cell_type": "markdown",
   "metadata": {},
   "source": [
    "![image.png](./images/plot1.PNG)"
   ]
  },
  {
   "cell_type": "code",
   "execution_count": 19,
   "metadata": {},
   "outputs": [],
   "source": [
    "# Match the plot above in this code box"
   ]
  },
  {
   "cell_type": "markdown",
   "metadata": {},
   "source": [
    "Wow it looks like there may be a linear relationship - lets try to train a linear regression model. "
   ]
  },
  {
   "cell_type": "markdown",
   "metadata": {},
   "source": [
    "Fill out the function below as a template to train a model. Call the function below the function definition to start training your model on the \"purchase_amount\" and \"annual_income\". Have the \"annual_income\" be the x variable and \"purchase_amount\" be the y variable."
   ]
  },
  {
   "cell_type": "code",
   "execution_count": null,
   "metadata": {},
   "outputs": [],
   "source": [
    "# This is in a function for testing\n",
    "def train_linear_regression_model(x_data, y_data):\n",
    "    ''' \n",
    "    In this function setup the code to train a model\n",
    "    that takes in x_data and y_data. \n",
    "\n",
    "    parameter: pd.DataFrame | x_data\n",
    "    parameter: pd.DataFrame | y_data\n",
    "    return LinearRegression Model\n",
    "    '''\n",
    "\n",
    "    model = None\n",
    "    return model\n",
    "\n",
    "# Call the function above here! Train it on the \"annual_income\" data and \"purchase_amount\" data\n",
    "# Have the return value stored in a variable so we can access our model later. \n",
    "# Note the data you pass in may need to be converted to a pandas data frame\n"
   ]
  },
  {
   "cell_type": "markdown",
   "metadata": {},
   "source": [
    "Fill out the function below to return metrics of your model "
   ]
  },
  {
   "cell_type": "code",
   "execution_count": null,
   "metadata": {},
   "outputs": [],
   "source": [
    "# Pytest will only check for formatting \n",
    "# Your instructor will manually check for the correct answer. \n",
    "def print_model_metrics(model, x_data, y_data):\n",
    "    '''\n",
    "    Add the model metrics to this dictionary in the specified order. \n",
    "\n",
    "    These model metrics should not be hardcoded, but should be method calls\n",
    "    from the model you passed in.\n",
    "\n",
    "    Order:\n",
    "    - Coefficients\n",
    "    - Intercepts\n",
    "    - Score\n",
    "\n",
    "    parameter: Linear Regression Model | model\n",
    "    parameter: pd.DataFrame | x_data\n",
    "    parameter: pd.DataFrame | y_data\n",
    "    return dict | metrics\n",
    "\n",
    "    Note in this example we will only have one coefficient and intercept, \n",
    "    do not slice the coefficients and interrupts, just return the model \n",
    "    attributes. Replace all zeros.\n",
    "    '''\n",
    "    metrics = {\n",
    "        \"Coefficients\" : 0,\n",
    "        \"Intercepts\" : 0,\n",
    "        \"Score\" : 0,\n",
    "    }\n",
    "    return metrics\n",
    "\n",
    "# using the template below call the function above with the model you created\n",
    "# the annual_income data as the x data and the purchase_amount as the y data\n",
    "# Note the x_data and y_data passed in must be dataframes\n",
    "print(print_model_metrics(None, None, None)) "
   ]
  },
  {
   "cell_type": "markdown",
   "metadata": {},
   "source": [
    "In the block below plot the line of best fit using the metrics we found from the model. Match the plot below"
   ]
  },
  {
   "cell_type": "markdown",
   "metadata": {},
   "source": [
    "![image.png](./images/plot2.PNG)"
   ]
  },
  {
   "cell_type": "code",
   "execution_count": null,
   "metadata": {},
   "outputs": [],
   "source": [
    "# Create the plot above in code here"
   ]
  },
  {
   "cell_type": "markdown",
   "metadata": {},
   "source": [
    "Write a summary below of your model's score and what it might mean also address the questions below:\n",
    "- What does the score you found mean?\n",
    "- What are some options we can do to improve our model accuracy (can we increase accuracy over a certain income range?)\n",
    "- How this data was collected - should we trust the results that we found? Are they representative of the real world?"
   ]
  },
  {
   "cell_type": "markdown",
   "metadata": {},
   "source": [
    "#See rubric for requirements\n",
    "Summary:"
   ]
  }
 ],
 "metadata": {
  "kernelspec": {
   "display_name": ".venv",
   "language": "python",
   "name": "python3"
  },
  "language_info": {
   "codemirror_mode": {
    "name": "ipython",
    "version": 3
   },
   "file_extension": ".py",
   "mimetype": "text/x-python",
   "name": "python",
   "nbconvert_exporter": "python",
   "pygments_lexer": "ipython3",
   "version": "3.11.9"
  }
 },
 "nbformat": 4,
 "nbformat_minor": 2
}
